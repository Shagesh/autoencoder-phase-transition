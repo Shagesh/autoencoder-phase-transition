{
 "cells": [
  {
   "cell_type": "code",
   "execution_count": 1,
   "metadata": {
    "id": "1dGyPu8pHARx"
   },
   "outputs": [],
   "source": [
    "import matplotlib.pyplot as plt\n",
    "import numpy as np\n",
    "from tqdm import tqdm\n",
    "\n",
    "import sklearn\n",
    "from sklearn.datasets import make_sparse_coded_signal\n",
    "from sklearn.decomposition import DictionaryLearning, MiniBatchDictionaryLearning\n",
    "from sklearn.utils import check_random_state\n",
    "\n",
    "from scipy.spatial.distance import cdist\n",
    "from decimal import Decimal"
   ]
  },
  {
   "cell_type": "code",
   "execution_count": 2,
   "metadata": {},
   "outputs": [],
   "source": [
    "import warnings\n",
    "warnings.filterwarnings(\"ignore\")"
   ]
  },
  {
   "cell_type": "code",
   "execution_count": 3,
   "metadata": {
    "id": "ssGNIESmqAcJ"
   },
   "outputs": [],
   "source": [
    "def perm_free_D(D):\n",
    "    D_temp = np.copy(D)\n",
    "    for i in range(D_temp.shape[1]):\n",
    "        D_temp[:,i]*=np.sign( np.sum(D_temp[:,i]) )\n",
    "\n",
    "    col_sums=[np.sum(D_temp[:,i]) for i in range(D_temp.shape[1])]\n",
    "    idx=list(range(D_temp.shape[1]))\n",
    "    new_idx=np.argsort(col_sums)[::-1]\n",
    "    D_new=D_temp[:,new_idx]    \n",
    "    return D_new\n",
    "\n",
    "def perm_free_DS(D, X):\n",
    "    D_temp = np.copy(D)\n",
    "    X_temp = np.copy(X)\n",
    "    for i in range(D_temp.shape[1]):\n",
    "        X_temp[i,:]*=np.sign( np.sum(D_temp[:,i]) )\n",
    "        D_temp[:,i]*=np.sign( np.sum(D_temp[:,i]) )\n",
    "\n",
    "    col_sums=[np.sum(D_temp[:,i]) for i in range(D_temp.shape[1])]\n",
    "    idx=list(range(D_temp.shape[1]))\n",
    "    new_idx=np.argsort(col_sums)[::-1]\n",
    "\n",
    "    D_new=D_temp[:,new_idx]\n",
    "\n",
    "    X_temp=X_temp[new_idx,:]\n",
    "    \n",
    "    return (D_new, X_temp)"
   ]
  },
  {
   "cell_type": "code",
   "execution_count": 4,
   "metadata": {},
   "outputs": [],
   "source": [
    "def make_sparse_coded_signal1(\n",
    "    n_samples,\n",
    "    *,\n",
    "    n_components,\n",
    "    n_features,\n",
    "    n_nonzero_coefs,\n",
    "    random_state=None,\n",
    "    data_transposed=\"warn\",\n",
    "):\n",
    "    \"\"\"Generate a signal as a sparse combination of dictionary elements.\n",
    "    Returns a matrix Y = DX, such that D is (n_features, n_components),\n",
    "    X is (n_components, n_samples) and each column of X has exactly\n",
    "    n_nonzero_coefs non-zero elements.\n",
    "    Read more in the :ref:`User Guide <sample_generators>`.\n",
    "    Parameters\n",
    "    ----------\n",
    "    n_samples : int\n",
    "        Number of samples to generate.\n",
    "    n_components : int\n",
    "        Number of components in the dictionary.\n",
    "    n_features : int\n",
    "        Number of features of the dataset to generate.\n",
    "    n_nonzero_coefs : int\n",
    "        Number of active (non-zero) coefficients in each sample.\n",
    "    random_state : int, RandomState instance or None, default=None\n",
    "        Determines random number generation for dataset creation. Pass an int\n",
    "        for reproducible output across multiple function calls.\n",
    "        See :term:`Glossary <random_state>`.\n",
    "    data_transposed : bool, default=True\n",
    "        By default, Y, D and X are transposed.\n",
    "        .. versionadded:: 1.1\n",
    "    Returns\n",
    "    -------\n",
    "    data : ndarray of shape (n_features, n_samples) or (n_samples, n_features)\n",
    "        The encoded signal (Y). The shape is `(n_samples, n_features)` if\n",
    "        `data_transposed` is False, otherwise it's `(n_features, n_samples)`.\n",
    "    dictionary : ndarray of shape (n_features, n_components) or \\\n",
    "            (n_components, n_features)\n",
    "        The dictionary with normalized components (D). The shape is\n",
    "        `(n_components, n_features)` if `data_transposed` is False, otherwise it's\n",
    "        `(n_features, n_components)`.\n",
    "    code : ndarray of shape (n_components, n_samples) or (n_samples, n_components)\n",
    "        The sparse code such that each column of this matrix has exactly\n",
    "        n_nonzero_coefs non-zero items (X). The shape is `(n_samples, n_components)`\n",
    "        if `data_transposed` is False, otherwise it's `(n_components, n_samples)`.\n",
    "    \"\"\"\n",
    "    generator = check_random_state(random_state)\n",
    "\n",
    "    # generate dictionary\n",
    "    D = generator.normal(size=(n_features, n_components), loc=0.0, scale=1.0)\n",
    "    D /= np.sqrt(np.sum((D**2), axis=0))\n",
    "\n",
    "    # generate code\n",
    "    X = np.zeros((n_components, n_samples))\n",
    "    for i in range(n_samples):\n",
    "        idx = np.arange(n_components)\n",
    "        generator.shuffle(idx)\n",
    "        idx = idx[:n_nonzero_coefs]\n",
    "        X[idx, i] = generator.normal(size=n_nonzero_coefs, loc=0.0, scale=1.0)\n",
    "\n",
    "    # encode signal\n",
    "    Y = np.dot(D, X)\n",
    "\n",
    "    # transpose if needed\n",
    "    if not data_transposed:\n",
    "        Y, D, X = Y.T, D.T, X.T\n",
    "\n",
    "    return map(np.squeeze, (Y, D, X))"
   ]
  },
  {
   "cell_type": "code",
   "execution_count": 5,
   "metadata": {},
   "outputs": [],
   "source": [
    "def dict_reconstruction(Y, n_comp):\n",
    "    dict_learner = DictionaryLearning(n_components=n_comp\\\n",
    "                                  , max_iter=1000, transform_alpha=0.1)\n",
    "    XhatT = dict_learner.fit_transform(Y.T)\n",
    "    (Dhat_, Xhat_) = perm_free_DS(dict_learner.components_.T, XhatT.T)\n",
    "    return (Dhat_, Xhat_)"
   ]
  },
  {
   "cell_type": "code",
   "execution_count": 6,
   "metadata": {
    "id": "tWWyw-CAJCke"
   },
   "outputs": [],
   "source": [
    "n_nonzero_coefs=10\n",
    "n_comp=100\n",
    "n_feat=50\n",
    "n_samp = 10000\n",
    "\n",
    "##### Default #######\n",
    "# X, dictionary, code = make_sparse_coded_signal(\n",
    "# n_samples=10, n_components=n_comp, n_features=20, n_nonzero_coefs=n_nonzero_coefs,random_state=42,\n",
    "# )\n",
    "\n",
    "####### custom #######\n",
    "Y, D, X = make_sparse_coded_signal(\n",
    "n_samples=n_samp, n_components=n_comp, n_features=n_feat, n_nonzero_coefs=n_nonzero_coefs)\n"
   ]
  },
  {
   "cell_type": "markdown",
   "metadata": {},
   "source": [
    "# Online dictionary learning "
   ]
  },
  {
   "cell_type": "code",
   "execution_count": 7,
   "metadata": {},
   "outputs": [],
   "source": [
    "import torch\n",
    "import torch.nn as nn\n",
    "import torch.nn.functional as F\n",
    "import torchvision\n",
    "import matplotlib.pyplot as plt\n",
    "from matplotlib import cm\n",
    "import numpy as np\n",
    "import time\n",
    "import importlib\n",
    "from torch.utils.data import TensorDataset\n",
    "\n",
    "\n",
    "# Hyper Parameters\n",
    "EPOCH = 50\n",
    "BATCH_SIZE = 256\n",
    "LR = .5  # learning rate\n",
    "MNT = 0.9   # momentum variable\n",
    "DOWNLOAD_Dataset = True\n",
    "N_TEST_IMG = 5\n",
    "m = n_comp     # Dictionary Size\n",
    "\n",
    "device = torch.device(\"cuda:0\" if torch.cuda.is_available() else \"cpu\")"
   ]
  },
  {
   "cell_type": "code",
   "execution_count": 8,
   "metadata": {},
   "outputs": [],
   "source": [
    "input_dim = n_feat\n",
    "n_samples = n_samp\n",
    "trainset=Y.T\n",
    "\n",
    "my_y=np.array(list(trainset.reshape(n_samples,input_dim,-1)))\n",
    "tensor_y = torch.Tensor(my_y) # transform to torch tensor\n",
    "#tensor_y = torch.Tensor(my_y)\n",
    "\n",
    "train_data = TensorDataset(tensor_y) # create your datset\n",
    "#trainloader = DataLoader(my_dataset)\n",
    "\n",
    "trainloader = torch.utils.data.DataLoader(trainset, batch_size=BATCH_SIZE,\n",
    "                                         shuffle=True, num_workers=2)"
   ]
  },
  {
   "cell_type": "code",
   "execution_count": 9,
   "metadata": {},
   "outputs": [],
   "source": [
    "import Dictionary_Model as modelDL\n",
    "\n",
    "model = modelDL.DictLearn(input_dim, m).to(device)\n",
    "optimizer = torch.optim.SGD(model.parameters(), lr=LR, momentum=MNT)\n",
    "loss_func = nn.MSELoss()"
   ]
  },
  {
   "cell_type": "code",
   "execution_count": 10,
   "metadata": {},
   "outputs": [],
   "source": [
    "import importlib\n",
    "importlib.reload(modelDL)\n",
    "\n",
    "# Training\n",
    "Error = np.zeros((EPOCH,))\n",
    "Nnz = np.zeros((EPOCH,))\n",
    "Loss = np.zeros((EPOCH,))\n",
    "N = trainset.shape[0]\n",
    "DISPLAY_FREQ = 1 ; \n",
    "TSHOW = np.round(DISPLAY_FREQ * N/BATCH_SIZE) # times per EPOCH to display information\n",
    "t0 = time.perf_counter()\n",
    "SC = 'IHT' # 'fista' or 'IHT'\n",
    "K = n_nonzero_coefs         # sparsity parameter: float numer if 'fista' or cardinality constraint if 'IHT'\n",
    "# K = (n_comp - n_nonzero_coefs)/n_comp         # sparsity parameter: float numer if 'fista' or cardinality constraint if 'IHT'\n",
    "# K = 0.2         # sparsity parameter: float numer if 'fista' or cardinality constraint if 'IHT'\n",
    "\n",
    "Err = []"
   ]
  },
  {
   "cell_type": "code",
   "execution_count": 11,
   "metadata": {
    "scrolled": false
   },
   "outputs": [
    {
     "name": "stdout",
     "output_type": "stream",
     "text": [
      "Epoch: 49\tError: 6.57e-07\t\tTrain loss: 2.68e-05\t\tNNZ/(1-sparsity): 1.00e-01\r"
     ]
    }
   ],
   "source": [
    "model.W = torch.nn.Parameter(torch.tensor(D, dtype=torch.float))\n",
    "for epoch in range(EPOCH):\n",
    "    for step, (x) in enumerate(trainloader):\n",
    "        b_x = (x.view(-1, input_dim)).type(torch.FloatTensor).to(device)   # batch x, shape (batch, 28*28)\n",
    "        b_y = (x.view(-1, input_dim)).type(torch.FloatTensor).to(device)   # batch y, shape (batch, 28*28)\n",
    "\n",
    "        decoded, encoded, errIHT = model(b_x,SC,K)\n",
    "        \n",
    "        loss = loss_func(decoded, b_y)      # mean square error\n",
    "        optimizer.zero_grad()               # clear gradients for this training step\n",
    "        loss.backward()                     # backpropagation, compute gradients\n",
    "        optimizer.step()                    # apply gradients\n",
    "        model.zero_grad()\n",
    "        \n",
    "        if SC == 'IHT': Loss[epoch] = Loss[epoch] + loss.data\n",
    "        elif SC == 'fista': Loss[epoch] = Loss[epoch] + loss.data + K * np.sum(np.abs(encoded.cpu().numpy()))\n",
    "        decoded = decoded.detach()\n",
    "        err = np.linalg.norm( D - model.W.data.numpy() ,'fro')\n",
    "        Error[epoch] = Error[epoch] + err#errIHT[-1]\n",
    "        Err = np.append(Err,errIHT[-1])\n",
    "        Nnz[epoch] = Nnz[epoch] + np.count_nonzero(encoded.cpu().numpy())/encoded.cpu().numpy().size\n",
    "                \n",
    "    Loss[epoch] /= len(trainloader.dataset)\n",
    "    Error[epoch] /= (step+1)\n",
    "    Nnz[epoch] /= (step+1)\n",
    "    print('Epoch: %d\\tError: %.2e\\t\\tTrain loss: %.2e\\t\\tNNZ/(1-sparsity): %.2e' % (epoch, Decimal(Error[epoch]), Decimal(Loss[epoch]), Decimal(Nnz[epoch])), end=\"\\r\")\n",
    "    "
   ]
  },
  {
   "cell_type": "code",
   "execution_count": 12,
   "metadata": {},
   "outputs": [],
   "source": [
    "def dict_reconstruction_online(Y, n_comp, n_nonzero_coefs, n_feat, n_samp):\n",
    "    EPOCH = 50\n",
    "    BATCH_SIZE = 256\n",
    "    LR = .5  # learning rate\n",
    "    MNT = 0.9   # momentum variable\n",
    "    DOWNLOAD_Dataset = True\n",
    "    N_TEST_IMG = 5\n",
    "    m = n_comp     # Dictionary Size\n",
    "    \n",
    "    input_dim = n_feat\n",
    "    n_samples = n_samp\n",
    "    n_samples_test = 100\n",
    "    trainset=Y.T[:n_samples]\n",
    "    testset=Y.T[n_samples:]\n",
    "\n",
    "    my_y=np.array(list(trainset.reshape(n_samples,input_dim,-1)))\n",
    "    tensor_y = torch.Tensor(my_y) # transform to torch tensor\n",
    "    #tensor_y = torch.Tensor(my_y)\n",
    "\n",
    "    train_data = TensorDataset(tensor_y) # create your datset\n",
    "    #trainloader = DataLoader(my_dataset)\n",
    "\n",
    "    trainloader = torch.utils.data.DataLoader(trainset, batch_size=BATCH_SIZE,\n",
    "                                             shuffle=True, num_workers=2)\n",
    "    \n",
    "    test_data = TensorDataset(tensor_y) # create your datset\n",
    "    #trainloader = DataLoader(my_dataset)\n",
    "\n",
    "    testloader = torch.utils.data.DataLoader(testset, batch_size=BATCH_SIZE,\n",
    "                                             shuffle=True, num_workers=2)\n",
    "\n",
    "    model = modelDL.DictLearn(input_dim, m).to(device)\n",
    "    model.W = torch.nn.Parameter(torch.tensor(D, dtype=torch.float))\n",
    "    optimizer = torch.optim.SGD(model.parameters(), lr=LR, momentum=MNT)\n",
    "    loss_func = nn.MSELoss()\n",
    "    \n",
    "    # Training\n",
    "    Error = np.zeros((EPOCH,))\n",
    "    Nnz = np.zeros((EPOCH,))\n",
    "    Loss = np.zeros((EPOCH,))\n",
    "    N = trainset.shape[0]\n",
    "    DISPLAY_FREQ = 1 ; \n",
    "    TSHOW = np.round(DISPLAY_FREQ * N/BATCH_SIZE) # times per EPOCH to display information\n",
    "    t0 = time.perf_counter()\n",
    "    SC = 'IHT' # 'fista' or 'IHT'\n",
    "    K = n_nonzero_coefs         # sparsity parameter: float numer if 'fista' or cardinality constraint if 'IHT'\n",
    "    # K = (n_comp - n_nonzero_coefs)/n_comp         # sparsity parameter: float numer if 'fista' or cardinality constraint if 'IHT'\n",
    "    # K = 0.2         # sparsity parameter: float numer if 'fista' or cardinality constraint if 'IHT'\n",
    "    Err = []\n",
    "    \n",
    "    # Test\n",
    "    Error_ = 0\n",
    "    Nnz_ = 0\n",
    "    Loss_ = 0\n",
    "    Err_ = []\n",
    "    \n",
    "    for epoch in range(EPOCH):\n",
    "        for step, (x) in enumerate(trainloader):\n",
    "            b_x = (x.view(-1, input_dim)).type(torch.FloatTensor).to(device)   # batch x, shape (batch, 28*28)\n",
    "            b_y = (x.view(-1, input_dim)).type(torch.FloatTensor).to(device)   # batch y, shape (batch, 28*28)\n",
    "\n",
    "            decoded, encoded, errIHT = model(b_x,SC,K)\n",
    "\n",
    "            loss = loss_func(decoded, b_y)      # mean square error\n",
    "            optimizer.zero_grad()               # clear gradients for this training step\n",
    "            loss.backward()                     # backpropagation, compute gradients\n",
    "            optimizer.step()                    # apply gradients\n",
    "            model.zero_grad()\n",
    "\n",
    "            if SC == 'IHT': Loss[epoch] = Loss[epoch] + loss.data\n",
    "            elif SC == 'fista': Loss[epoch] = Loss[epoch] + loss.data + K * np.sum(np.abs(encoded.cpu().numpy()))\n",
    "            decoded = decoded.detach()\n",
    "            err = np.linalg.norm( (decoded-b_x).cpu().numpy() ,'fro') / np.linalg.norm( b_x.cpu().numpy() ,'fro')\n",
    "            Error[epoch] = Error[epoch] + errIHT[-1]\n",
    "            Err = np.append(Err,errIHT[-1])\n",
    "            Nnz[epoch] = Nnz[epoch] + np.count_nonzero(encoded.cpu().numpy())/encoded.cpu().numpy().size\n",
    "\n",
    "    #         # for debugging:\n",
    "    #         print(Error[epoch]/(step+1))\n",
    "    #         if step%50==0:\n",
    "    #             plt.plot(errIHT); plt.show()\n",
    "\n",
    "        Loss[epoch] /= len(trainloader.dataset)\n",
    "        Error[epoch] /= (step+1)\n",
    "        Nnz[epoch] /= (step+1)\n",
    "\n",
    "    for step, (x) in enumerate(testloader):\n",
    "        b_x = (x.view(-1, input_dim)).type(torch.FloatTensor).to(device)   # batch x, shape (batch, 28*28)\n",
    "        b_y = (x.view(-1, input_dim)).type(torch.FloatTensor).to(device)   # batch y, shape (batch, 28*28)\n",
    "\n",
    "        decoded, encoded, errIHT = model(b_x,SC,K)\n",
    "\n",
    "        loss = loss_func(decoded, b_y)      # mean square error\n",
    "\n",
    "        if SC == 'IHT': Loss_ = Loss_ + loss.data\n",
    "        elif SC == 'fista': Loss_ = Loss_ + loss.data + K * np.sum(np.abs(encoded.cpu().numpy()))\n",
    "        decoded = decoded.detach()\n",
    "        err = np.linalg.norm( (decoded-b_x).cpu().numpy() ,'fro') / np.linalg.norm( b_x.cpu().numpy() ,'fro')\n",
    "        Error_ = Error_ + errIHT[-1]\n",
    "        Err_ = np.append(Err_,errIHT[-1])\n",
    "        Nnz_ = Nnz_ + np.count_nonzero(encoded.cpu().numpy())/encoded.cpu().numpy().size\n",
    "\n",
    "    Loss_ /= len(testloader.dataset)\n",
    "    Error_ /= (step+1)\n",
    "    Nnz_ /= (step+1)\n",
    "\n",
    "    return (model, Loss[-1], Loss_.data.numpy())"
   ]
  },
  {
   "cell_type": "code",
   "execution_count": 13,
   "metadata": {},
   "outputs": [
    {
     "data": {
      "image/png": "[encoded data removed]",
      "text/plain": [
       "<Figure size 432x288 with 1 Axes>"
      ]
     },
     "metadata": {
      "needs_background": "light"
     },
     "output_type": "display_data"
    },
    {
     "name": "stdout",
     "output_type": "stream",
     "text": [
      "10  -  0.007810232919766662 3.434739075601101e-06 1.0730133362812922e-05\n"
     ]
    }
   ],
   "source": [
    "N = 20\n",
    "M = 20\n",
    "EPOCH = 50\n",
    "rho = 0.4\n",
    "P = 100\n",
    "\n",
    "error = []\n",
    "for M in [10]:\n",
    "\n",
    "    Y, D, X = make_sparse_coded_signal(\n",
    "    n_samples=P + 100, n_components=N, n_features=M, n_nonzero_coefs=int(rho * N))\n",
    "\n",
    "    # Random undersample\n",
    "    (D_, X_) = perm_free_DS(D, X)\n",
    "\n",
    "    # Reconstruct\n",
    "    (model, loss, loss_) = dict_reconstruction_online(Y, N, int(rho * N), M, P)\n",
    "    Dhat = model.W.data.numpy()\n",
    "    Dhat_ = perm_free_D(Dhat)\n",
    "    temp = cdist(Dhat_.T, D_.T, 'cosine')\n",
    "    temp_error = 0\n",
    "    for atom_index in range(N):\n",
    "        temp_error += np.min(temp[:, atom_index])\n",
    "\n",
    "    plt.imshow(temp < 0.1)\n",
    "    plt.show()\n",
    "    print(np.around(M, decimals = 2), ' - ', temp_error/(M*N), loss/M, loss_/M)\n",
    "    error.append(temp_error)"
   ]
  },
  {
   "cell_type": "code",
   "execution_count": 14,
   "metadata": {},
   "outputs": [],
   "source": [
    "# N = 60\n",
    "# M = 30\n",
    "# EPOCH = 50\n",
    "# rho = 0.1\n",
    "\n",
    "# error = []\n",
    "# for P in [10, 20, 30, 40, 50, 60, 70, 80, 90, 100, 110, 120]:\n",
    "#     piter = 100\n",
    "#     temp_error_ = []\n",
    "#     for it in np.r_[:piter]:\n",
    "#         Y, D, X = make_sparse_coded_signal(\n",
    "#         n_samples=P+100, n_components=N, n_features=M, n_nonzero_coefs=int(rho * N))\n",
    "\n",
    "#         # Random undersample\n",
    "#         (D_, X_) = perm_free_DS(D, X)\n",
    "\n",
    "#         # Reconstruct\n",
    "#         (model, Dhat, loss) = dict_reconstruction_online(Y, N, int(rho * N), M, P)\n",
    "#         Dhat_ = perm_free_D(Dhat)\n",
    "#         temp = cdist(Dhat_.T, D_.T)\n",
    "#         temp_error = 0\n",
    "#         for atom_index in range(N):\n",
    "#             temp_error += np.min(temp[atom_index, :])\n",
    "#         temp_error_.append(temp_error)\n",
    "#     error.append(np.percentile(np.array(temp_error_), q = 50))\n",
    "#     print(error[-1])"
   ]
  },
  {
   "cell_type": "markdown",
   "metadata": {},
   "source": [
    "# Dictionary learning phase curve"
   ]
  },
  {
   "cell_type": "code",
   "execution_count": 15,
   "metadata": {},
   "outputs": [
    {
     "name": "stderr",
     "output_type": "stream",
     "text": [
      "100%|██████████| 31/31 [3:20:31<00:00, 388.10s/it]  "
     ]
    },
    {
     "name": "stdout",
     "output_type": "stream",
     "text": [
      "done\n"
     ]
    },
    {
     "name": "stderr",
     "output_type": "stream",
     "text": [
      "\n"
     ]
    }
   ],
   "source": [
    "# Create a 128 x 128 phase transition matrix\n",
    "phase_transition = np.zeros( (32,32) )\n",
    "phase_transition_signal = np.zeros( (32,32) )\n",
    "phase_transition_signal_test = np.zeros( (32,32) )\n",
    "\n",
    "lamb = 0.05\n",
    "niter = 30\n",
    "\n",
    "# Loop delta and rho from 0 to 127 skipping 4\n",
    "piter = 1\n",
    "for it in np.r_[:piter]:\n",
    "    for pi in tqdm(np.r_[1:32:1]):\n",
    "        for rho in np.r_[1:32:1]:\n",
    "            \n",
    "            # Generate sparse signal\n",
    "            Y, D, X = make_sparse_coded_signal(\n",
    "            n_samples=1000+100, n_components=32, n_features=pi, n_nonzero_coefs=rho)\n",
    "\n",
    "            # Random undersample\n",
    "            D = D.reshape(pi, 32)\n",
    "            Y = Y.reshape(pi, 1100)\n",
    "            (D_, X_) = perm_free_DS(D, X)\n",
    "\n",
    "            # Reconstruct\n",
    "            (model, loss, loss_) = dict_reconstruction_online(Y, 32, rho, pi, 1000)\n",
    "            Dhat = model.W.data.numpy().reshape(pi, 32)\n",
    "            Dhat_ = perm_free_D(Dhat)\n",
    "            temp = cdist(Dhat_.T, D_.T, 'cosine')\n",
    "            temp_error = 0\n",
    "            for atom_index in range(32):\n",
    "                temp_error += np.min(temp[:, atom_index])\n",
    "\n",
    "            # Assign error to phase_transition\n",
    "            phase_transition[int(rho / 1), int(pi / 1)] += temp_error/(pi*32)\n",
    "            phase_transition_signal[int(rho / 1), int(pi / 1)] += loss/(pi)\n",
    "            phase_transition_signal_test[int(rho / 1), int(pi / 1)] += loss_/(pi)\n",
    "\n",
    "phase_transition = phase_transition / piter\n",
    "print(\"done\")\n",
    "        "
   ]
  },
  {
   "cell_type": "code",
   "execution_count": 16,
   "metadata": {},
   "outputs": [
    {
     "data": {
      "text/plain": [
       "Text(0.5, 0, 'pi = P/N')"
      ]
     },
     "execution_count": 16,
     "metadata": {},
     "output_type": "execute_result"
    },
    {
     "data": {
      "image/png": "[encoded data removed]",
      "text/plain": [
       "<Figure size 432x432 with 2 Axes>"
      ]
     },
     "metadata": {
      "needs_background": "light"
     },
     "output_type": "display_data"
    }
   ],
   "source": [
    "# Plot phase transition matrix\n",
    "plt.figure(figsize=(6, 6))\n",
    "plt.imshow(phase_transition[1:-1,1:-1], origin='lower',  extent = (0.03125, 1-0.03125, 0.03125, 1-0.03125))\n",
    "plt.colorbar()\n",
    "plt.title( 'Phase Transition' )\n",
    "plt.ylabel('rho = K/N')\n",
    "plt.xlabel('pi = P/N')"
   ]
  },
  {
   "cell_type": "code",
   "execution_count": null,
   "metadata": {},
   "outputs": [],
   "source": []
  },
  {
   "cell_type": "markdown",
   "metadata": {
    "id": "9pawmi9bLbXr"
   },
   "source": [
    "Idea (by Anirvan): Feed in the X that we obtain here into an autoencoder. "
   ]
  }
 ],
 "metadata": {
  "accelerator": "GPU",
  "colab": {
   "provenance": []
  },
  "kernelspec": {
   "display_name": "Python 3",
   "language": "python",
   "name": "python3"
  },
  "language_info": {
   "codemirror_mode": {
    "name": "ipython",
    "version": 3
   },
   "file_extension": ".py",
   "mimetype": "text/x-python",
   "name": "python",
   "nbconvert_exporter": "python",
   "pygments_lexer": "ipython3",
   "version": "3.6.10"
  }
 },
 "nbformat": 4,
 "nbformat_minor": 1
}
